{
 "cells": [
  {
   "cell_type": "code",
   "execution_count": 178,
   "id": "9f9b128b",
   "metadata": {},
   "outputs": [],
   "source": [
    "import numpy as np\n",
    "from itertools import cycle\n",
    "import pandas as pd\n",
    "import matplotlib.pyplot as plt\n",
    "from sklearn.metrics import accuracy_score"
   ]
  },
  {
   "cell_type": "code",
   "execution_count": 179,
   "id": "21036bf4",
   "metadata": {},
   "outputs": [],
   "source": [
    "class Perceptron:\n",
    "    def __init__(self, train_data, target, lr=0.01, input_nodes=2):\n",
    "        self.train_data = train_data\n",
    "        self.target = target\n",
    "        self.lr = lr\n",
    "        self.input_nodes = input_nodes\n",
    "        self.w = np.random.uniform(size=self.input_nodes)\n",
    "        self.b = -1\n",
    "        self.node_val = np.zeros(self.input_nodes)\n",
    "    def _gradient(self, node, exp, output):\n",
    "        return node * (exp - output)\n",
    "    def update_weights(self, exp, output):\n",
    "        for i in range(self.input_nodes):\n",
    "            self.w[i] += self.lr * self._gradient(self.node_val[i], exp, output)\n",
    "        self.b += self.lr * self._gradient(1, exp, output)\n",
    "    def forward(self, datapoint):\n",
    "        return self.b + np.dot(self.w, datapoint)\n",
    "    def classify(self, datapoint):\n",
    "        if self.forward(datapoint) >= 0:\n",
    "            return 1\n",
    "        return 0    \n",
    "    def plot(self, h=0.01):\n",
    "        plt.figure(figsize=(8, 8))\n",
    "\n",
    "        plt.axis('scaled')\n",
    "        plt.xlim(-0.1, 1.1)\n",
    "        plt.ylim(-0.1, 1.1)\n",
    "        colors = { 0: \"ro\", 1: \"go\"}\n",
    "        for i in range(len(self.train_data)):\n",
    "            plt.plot([self.train_data[i][0]], [self.train_data[i][1]], colors[self.target[i][0]], markersize=20)\n",
    "        x_range = np.arange(-0.1, 1.1, h)\n",
    "        y_range = np.arange(-0.1, 1.1, h)\n",
    "        xx, yy = np.meshgrid(x_range, y_range, indexing='ij')\n",
    "        Z = np.array([[self.classify([x, y]) for x in x_range] for y in y_range])\n",
    "        plt.contourf(xx, yy, Z, colors=['red', 'green', 'green', 'blue'], alpha=0.4)\n",
    "    def train(self):\n",
    "        correct_counter = 0\n",
    "        for train, target in cycle(zip(self.train_data, self.target)):\n",
    "            if correct_counter == len(self.train_data):\n",
    "                break\n",
    "            output = self.classify(train)\n",
    "            self.node_val = train\n",
    "            if output == target:\n",
    "                correct_counter += 1\n",
    "            else:\n",
    "                self.update_weights(target, output)\n",
    "                correct_counter = 0"
   ]
  },
  {
   "cell_type": "code",
   "execution_count": 180,
   "id": "9ef48c5c",
   "metadata": {},
   "outputs": [],
   "source": [
    "# Data Set\n",
    "train_data = np.array([[0, 0],[0, 1],[1, 0],[1, 1]])\n",
    "target_or = np.array([[0],[1],[1],[1]])\n",
    "target_and = np.array([[0],[0],[0],[1]])"
   ]
  },
  {
   "cell_type": "code",
   "execution_count": 181,
   "id": "fee2bce1",
   "metadata": {},
   "outputs": [],
   "source": [
    "X1 = np.array([x[0] for x in train_data])\n",
    "X2 = np.array([x[1] for x in train_data])\n",
    "and_target = np.array([x[0] for x in target_and])\n",
    "or_target = np.array([x[0] for x in target_or])\n"
   ]
  },
  {
   "cell_type": "code",
   "execution_count": 182,
   "id": "48a1c571",
   "metadata": {},
   "outputs": [
    {
     "name": "stdout",
     "output_type": "stream",
     "text": [
      "\t\t--AND GATE-- \n",
      "\n",
      "Initial weights :  [0.44994962 0.0891543 ]\n",
      "Initial bias :  -1\n",
      "\n",
      "Final weights :  [0.60994962 0.2491543 ]\n",
      "Final bias :  [-0.84]\n",
      "\n",
      "Error : \t 0.0\n"
     ]
    },
    {
     "data": {
      "text/html": [
       "<div>\n",
       "<style scoped>\n",
       "    .dataframe tbody tr th:only-of-type {\n",
       "        vertical-align: middle;\n",
       "    }\n",
       "\n",
       "    .dataframe tbody tr th {\n",
       "        vertical-align: top;\n",
       "    }\n",
       "\n",
       "    .dataframe thead th {\n",
       "        text-align: right;\n",
       "    }\n",
       "</style>\n",
       "<table border=\"1\" class=\"dataframe\">\n",
       "  <thead>\n",
       "    <tr style=\"text-align: right;\">\n",
       "      <th></th>\n",
       "      <th>X1</th>\n",
       "      <th>X2</th>\n",
       "      <th>Target output</th>\n",
       "      <th>Predducted CAT-2</th>\n",
       "    </tr>\n",
       "  </thead>\n",
       "  <tbody>\n",
       "    <tr>\n",
       "      <th>0</th>\n",
       "      <td>0</td>\n",
       "      <td>0</td>\n",
       "      <td>0</td>\n",
       "      <td>0</td>\n",
       "    </tr>\n",
       "    <tr>\n",
       "      <th>1</th>\n",
       "      <td>0</td>\n",
       "      <td>1</td>\n",
       "      <td>0</td>\n",
       "      <td>0</td>\n",
       "    </tr>\n",
       "    <tr>\n",
       "      <th>2</th>\n",
       "      <td>1</td>\n",
       "      <td>0</td>\n",
       "      <td>0</td>\n",
       "      <td>0</td>\n",
       "    </tr>\n",
       "    <tr>\n",
       "      <th>3</th>\n",
       "      <td>1</td>\n",
       "      <td>1</td>\n",
       "      <td>1</td>\n",
       "      <td>1</td>\n",
       "    </tr>\n",
       "  </tbody>\n",
       "</table>\n",
       "</div>"
      ],
      "text/plain": [
       "   X1  X2  Target output  Predducted CAT-2\n",
       "0   0   0              0                 0\n",
       "1   0   1              0                 0\n",
       "2   1   0              0                 0\n",
       "3   1   1              1                 1"
      ]
     },
     "execution_count": 182,
     "metadata": {},
     "output_type": "execute_result"
    },
    {
     "data": {
      "image/png": "[encoded data removed]",
      "text/plain": [
       "<Figure size 576x576 with 1 Axes>"
      ]
     },
     "metadata": {},
     "output_type": "display_data"
    }
   ],
   "source": [
    "p_and = Perceptron(train_data, target_and)\n",
    "print(\"\\t\\t--AND GATE-- \\n\")\n",
    "print(\"Initial weights : \", p_and.w)\n",
    "print(\"Initial bias : \", p_and.b)\n",
    "\n",
    "p_and.train()\n",
    "\n",
    "print(\"\\nFinal weights : \", p_and.w)\n",
    "print(\"Final bias : \", p_and.b)\n",
    "\n",
    "and_predict = np.array([p_and.classify([x[0], x[1]]) for x in train_data])\n",
    "\n",
    "df = pd.DataFrame({'X1': X1, 'X2': X2, 'Target output':and_target, 'Predducted CAT-2': and_predict})\n",
    "\n",
    "print(\"\\nError : \\t\", (1-accuracy_score(and_target, and_predict))*100)\n",
    "\n",
    "p_and.plot()\n",
    "\n",
    "df"
   ]
  },
  {
   "cell_type": "code",
   "execution_count": 183,
   "id": "3effe250",
   "metadata": {},
   "outputs": [
    {
     "name": "stdout",
     "output_type": "stream",
     "text": [
      "\t\t--OR GATE-- \n",
      "\n",
      "Initial weights :  [0.14561965 0.48546912]\n",
      "Initial bias :  -1\n",
      "\n",
      "Final weights :  [0.50561965 0.67546912]\n",
      "Final bias :  [-0.5]\n",
      "\n",
      "Error : \t 0.0\n"
     ]
    },
    {
     "data": {
      "text/html": [
       "<div>\n",
       "<style scoped>\n",
       "    .dataframe tbody tr th:only-of-type {\n",
       "        vertical-align: middle;\n",
       "    }\n",
       "\n",
       "    .dataframe tbody tr th {\n",
       "        vertical-align: top;\n",
       "    }\n",
       "\n",
       "    .dataframe thead th {\n",
       "        text-align: right;\n",
       "    }\n",
       "</style>\n",
       "<table border=\"1\" class=\"dataframe\">\n",
       "  <thead>\n",
       "    <tr style=\"text-align: right;\">\n",
       "      <th></th>\n",
       "      <th>X1</th>\n",
       "      <th>X2</th>\n",
       "      <th>Target output</th>\n",
       "      <th>Predducted CAT-2</th>\n",
       "    </tr>\n",
       "  </thead>\n",
       "  <tbody>\n",
       "    <tr>\n",
       "      <th>0</th>\n",
       "      <td>0</td>\n",
       "      <td>0</td>\n",
       "      <td>0</td>\n",
       "      <td>0</td>\n",
       "    </tr>\n",
       "    <tr>\n",
       "      <th>1</th>\n",
       "      <td>0</td>\n",
       "      <td>1</td>\n",
       "      <td>1</td>\n",
       "      <td>1</td>\n",
       "    </tr>\n",
       "    <tr>\n",
       "      <th>2</th>\n",
       "      <td>1</td>\n",
       "      <td>0</td>\n",
       "      <td>1</td>\n",
       "      <td>1</td>\n",
       "    </tr>\n",
       "    <tr>\n",
       "      <th>3</th>\n",
       "      <td>1</td>\n",
       "      <td>1</td>\n",
       "      <td>1</td>\n",
       "      <td>1</td>\n",
       "    </tr>\n",
       "  </tbody>\n",
       "</table>\n",
       "</div>"
      ],
      "text/plain": [
       "   X1  X2  Target output  Predducted CAT-2\n",
       "0   0   0              0                 0\n",
       "1   0   1              1                 1\n",
       "2   1   0              1                 1\n",
       "3   1   1              1                 1"
      ]
     },
     "execution_count": 183,
     "metadata": {},
     "output_type": "execute_result"
    },
    {
     "data": {
      "image/png": "[encoded data removed]",
      "text/plain": [
       "<Figure size 576x576 with 1 Axes>"
      ]
     },
     "metadata": {},
     "output_type": "display_data"
    }
   ],
   "source": [
    "p_or = Perceptron(train_data, target_or)\n",
    "print(\"\\t\\t--OR GATE-- \\n\")\n",
    "print(\"Initial weights : \", p_or.w)\n",
    "print(\"Initial bias : \", p_or.b)\n",
    "\n",
    "p_or.train()\n",
    "\n",
    "print(\"\\nFinal weights : \", p_or.w)\n",
    "print(\"Final bias : \", p_or.b)\n",
    "\n",
    "or_predict = np.array([p_or.classify([x[0], x[1]]) for x in train_data])\n",
    "\n",
    "df = pd.DataFrame({'X1': X1, 'X2': X2, 'Target output':or_target, 'Predducted CAT-2': or_predict})\n",
    "\n",
    "print(\"\\nError : \\t\", (1-accuracy_score(or_target, or_predict))*100)\n",
    "\n",
    "p_or.plot()\n",
    "\n",
    "df"
   ]
  }
 ],
 "metadata": {
  "kernelspec": {
   "display_name": "Python 3 (ipykernel)",
   "language": "python",
   "name": "python3"
  },
  "language_info": {
   "codemirror_mode": {
    "name": "ipython",
    "version": 3
   },
   "file_extension": ".py",
   "mimetype": "text/x-python",
   "name": "python",
   "nbconvert_exporter": "python",
   "pygments_lexer": "ipython3",
   "version": "3.6.13"
  }
 },
 "nbformat": 4,
 "nbformat_minor": 5
}
