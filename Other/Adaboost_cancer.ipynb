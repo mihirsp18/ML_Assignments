{
 "cells": [
  {
   "cell_type": "code",
   "execution_count": 1,
   "id": "07d65897",
   "metadata": {},
   "outputs": [
    {
     "name": "stdout",
     "output_type": "stream",
     "text": [
      "Train score: 0.9694835680751174\n",
      "Test score: 0.958041958041958\n"
     ]
    }
   ],
   "source": [
    "# For this basic implementation, we only need these modules\n",
    "from sklearn.datasets import load_breast_cancer\n",
    "from sklearn.model_selection import train_test_split\n",
    "from sklearn.tree import DecisionTreeClassifier\n",
    "from sklearn.ensemble import AdaBoostClassifier\n",
    "\n",
    "# Load the well-known Breast Cancer dataset\n",
    "# Split into train and test sets\n",
    "x, y = load_breast_cancer(return_X_y=True)\n",
    "x_train, x_test, y_train, y_test = train_test_split(x, y, test_size=0.25, random_state=23)\n",
    "\n",
    "# The base learner will be a decision tree with depth = 2\n",
    "tree = DecisionTreeClassifier(max_depth=2, random_state=23)\n",
    "\n",
    "# AdaBoost initialization\n",
    "# It's defined the decision tree as the base learner\n",
    "# The number of estimators will be 5\n",
    "# The penalizer for the weights of each estimator is 0.1\n",
    "adaboost = AdaBoostClassifier(base_estimator=tree, n_estimators=5, \n",
    "                              learning_rate=0.1, random_state=23)\n",
    "\n",
    "# Train!\n",
    "adaboost.fit(x_train, y_train)\n",
    "\n",
    "# Evaluation\n",
    "print(f\"Train score: {adaboost.score(x_train, y_train)}\")\n",
    "print(f\"Test score: {adaboost.score(x_test, y_test)}\")"
   ]
  },
  {
   "cell_type": "code",
   "execution_count": null,
   "id": "741919c3",
   "metadata": {},
   "outputs": [],
   "source": []
  }
 ],
 "metadata": {
  "kernelspec": {
   "display_name": "Python 3 (ipykernel)",
   "language": "python",
   "name": "python3"
  },
  "language_info": {
   "codemirror_mode": {
    "name": "ipython",
    "version": 3
   },
   "file_extension": ".py",
   "mimetype": "text/x-python",
   "name": "python",
   "nbconvert_exporter": "python",
   "pygments_lexer": "ipython3",
   "version": "3.9.7"
  }
 },
 "nbformat": 4,
 "nbformat_minor": 5
}
