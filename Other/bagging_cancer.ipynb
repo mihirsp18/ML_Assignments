{
 "cells": [
  {
   "cell_type": "code",
   "execution_count": 1,
   "id": "24196b2f",
   "metadata": {},
   "outputs": [
    {
     "name": "stdout",
     "output_type": "stream",
     "text": [
      "Train score: 0.9248826291079812\n",
      "Test score: 0.951048951048951\n"
     ]
    }
   ],
   "source": [
    "# For this basic implementation, we only need these modules\n",
    "from sklearn.datasets import load_breast_cancer\n",
    "from sklearn.model_selection import train_test_split\n",
    "from sklearn.tree import DecisionTreeClassifier\n",
    "from sklearn.ensemble import BaggingClassifier\n",
    "\n",
    "# Load the well-known Breast Cancer dataset\n",
    "# Split into train and test sets\n",
    "x, y = load_breast_cancer(return_X_y=True)\n",
    "x_train, x_test, y_train, y_test = train_test_split(x, y, test_size=0.25, random_state=23)\n",
    "\n",
    "# For simplicity, we are going to use as base estimator a Decision Tree with fixed parameters\n",
    "tree = DecisionTreeClassifier(max_depth=3, random_state=23)\n",
    "\n",
    "# The baggging ensemble classifier is initialized with:\n",
    "# base_estimator = DecisionTree\n",
    "# n_estimators = 5 : it's gonna be created 5 subsets \n",
    "#                    to train 5 Decision Tree models\n",
    "# max_samples = 50 : it's gonna be taken randomly 50 items with replacement\n",
    "# bootstrap = True : means that the sampling is gonna be with replacement\n",
    "bagging = BaggingClassifier(base_estimator=tree, n_estimators=5, \n",
    "                            max_samples=50, bootstrap=True)\n",
    "\n",
    "# Training\n",
    "bagging.fit(x_train, y_train)\n",
    "\n",
    "# Evaluating\n",
    "print(f\"Train score: {bagging.score(x_train, y_train)}\")\n",
    "print(f\"Test score: {bagging.score(x_test, y_test)}\")"
   ]
  },
  {
   "cell_type": "code",
   "execution_count": null,
   "id": "550e6ab5",
   "metadata": {},
   "outputs": [],
   "source": []
  }
 ],
 "metadata": {
  "kernelspec": {
   "display_name": "Python 3 (ipykernel)",
   "language": "python",
   "name": "python3"
  },
  "language_info": {
   "codemirror_mode": {
    "name": "ipython",
    "version": 3
   },
   "file_extension": ".py",
   "mimetype": "text/x-python",
   "name": "python",
   "nbconvert_exporter": "python",
   "pygments_lexer": "ipython3",
   "version": "3.9.7"
  }
 },
 "nbformat": 4,
 "nbformat_minor": 5
}
