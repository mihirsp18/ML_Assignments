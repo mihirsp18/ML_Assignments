{
 "cells": [
  {
   "cell_type": "code",
   "execution_count": 11,
   "id": "66f8fe04",
   "metadata": {},
   "outputs": [
    {
     "name": "stdout",
     "output_type": "stream",
     "text": [
      "Probability of yes : 0.0037037037037037025 Probability of No : 0.0011718750000000002\n",
      "The value of play is Yes\n",
      "Probability of yes : 0.0037037037037037025 Probability of No : 0.0\n",
      "The value of play is Yes\n",
      "Probability of yes : 0.018518518518518514 Probability of No : 0.0\n",
      "The value of play is Yes\n",
      "Probability of yes : 0.005555555555555554 Probability of No : 0.0011718750000000002\n",
      "The value of play is Yes\n",
      "Total accuricy = 75.0\n"
     ]
    }
   ],
   "source": [
    "import pandas as pd\n",
    "df= pd.read_csv('play_tennis_train.csv')\n",
    "# df= df.drop(labels= ['day'], axis= 1)\n",
    "d={}\n",
    "n=len(df)\n",
    "no_yes=0\n",
    "no_no=0\n",
    "def yes_count(s,l):\n",
    "     c=0\n",
    "     for i in range(n):\n",
    "       if(df[l][i]==s and df['play'][i]=='Yes'):\n",
    "           c=c+1\n",
    "     return c\n",
    "def no_count(s,l):\n",
    "    c = 0\n",
    "    for i in range(n):\n",
    "        if (df[l][i] == s and df['play'][i] == 'No'):\n",
    "            c = c + 1\n",
    "    return c\n",
    "for i in range(len(df)):\n",
    "    if(df['play'][i]=='Yes'):\n",
    "        no_yes=no_yes+1\n",
    "no_no=14-no_yes\n",
    "for k in list(df)[1:]:\n",
    "    d1={}\n",
    "    for j in df[k].unique():\n",
    "          l=[yes_count(j,k)/no_yes,no_count(j,k)/no_no]\n",
    "          d1[j]=l\n",
    "    d[k]=d1\n",
    "\n",
    "testDS= pd.read_csv('play_tennis_test.csv')\n",
    "testDS= testDS.drop(labels= ['day'], axis= 1)\n",
    "acc = 0\n",
    "for test in range(len(testDS)):\n",
    "    w=[]\n",
    "    for i in range(0,4):\n",
    "        w.append(testDS.iloc[test,i])\n",
    "    z=0\n",
    "    probability_yes= (no_yes/n)\n",
    "    for i in range(4):\n",
    "        probability_yes=probability_yes*d[list(df)[1:][i]][w[i]][0]\n",
    "    probability_no= (no_no/n)\n",
    "    for i in range(4):\n",
    "        probability_no=probability_no*d[list(df)[1:][i]][w[i]][1]\n",
    "    print(\"Probability of yes : \"+str(probability_yes),\"Probability of No : \"+str(probability_no))\n",
    "    if(probability_yes>probability_no):\n",
    "        print(\"The value of play is Yes\")\n",
    "        if(testDS.iloc[test,4]==\"Yes\"):\n",
    "            acc = acc + 1\n",
    "    else:\n",
    "        print(\"The value of play is No\")\n",
    "        if(testDS.iloc[test,4]==\"No\"):\n",
    "            acc = acc + 1\n",
    "acc = (acc/len(testDS))*100\n",
    "print(\"Total accuracy = \" + str(acc))"
   ]
  }
 ],
 "metadata": {
  "kernelspec": {
   "display_name": "Python 3 (ipykernel)",
   "language": "python",
   "name": "python3"
  },
  "language_info": {
   "codemirror_mode": {
    "name": "ipython",
    "version": 3
   },
   "file_extension": ".py",
   "mimetype": "text/x-python",
   "name": "python",
   "nbconvert_exporter": "python",
   "pygments_lexer": "ipython3",
   "version": "3.6.13"
  }
 },
 "nbformat": 4,
 "nbformat_minor": 5
}
